{
 "cells": [
  {
   "cell_type": "markdown",
   "metadata": {},
   "source": [
    "# Exercise 04:  Route Planning"
   ]
  },
  {
   "cell_type": "markdown",
   "metadata": {},
   "source": [
    "In route planning, the objective is to find the best way to get from point A to point B (think Google Maps). In this exercise, we will try top of the classic shortest path problem."
   ]
  },
  {
   "cell_type": "markdown",
   "metadata": {},
   "source": [
    "### Basic Imports"
   ]
  },
  {
   "cell_type": "code",
   "execution_count": 4,
   "metadata": {},
   "outputs": [],
   "source": [
    "from queue import PriorityQueue"
   ]
  },
  {
   "cell_type": "markdown",
   "metadata": {},
   "source": [
    "``PriorityQueue`` implements a priority queue data structure, where elements are typically tuples of the form (priority, item). The entries are kept sorted by priority, and the queue retrieves elements starting with the lowest priority item. For details, please refer to https://docs.python.org/3/library/queue.html."
   ]
  },
  {
   "cell_type": "markdown",
   "metadata": {},
   "source": [
    "### Task 1: Implement Uniform Cost Search Algorithm\n",
    "\n",
    "Complete the implementation of the Uniform Cost Search (UCS) algorithm. You are provided with a partially completed function. Your task is to fill in the missing logic in the loop that processes nodes from the priority ."
   ]
  },
  {
   "cell_type": "code",
   "execution_count": 5,
   "metadata": {},
   "outputs": [],
   "source": [
    "def ucs(graph, home, destination):\n",
    "    \"\"\"\n",
    "    Perform Uniform Cost Search on a graph from a start location (home) to a goal location (destination).\n",
    "\n",
    "    Parameters:\n",
    "    graph (dict): A dictionary representation of the graph where keys are location names and values\n",
    "                  are dictionaries of neighbors with their associated costs.\n",
    "    home (str): The starting location in the graph.\n",
    "    destination (str): The goal location to reach in the graph.\n",
    "\n",
    "    Returns:\n",
    "    tuple: result(tuple) : A tuple containing the total cost (int) and path as a list of locations (str) from 'home' to 'destination'.\n",
    "    \"\"\"\n",
    "    if home not in graph:\n",
    "        raise TypeError(str(home) + ' not found in graph!')\n",
    "    if destination not in graph:\n",
    "        raise TypeError(str(destination) + ' not found in graph!')\n",
    "\n",
    "    queue = PriorityQueue()\n",
    "    queue.put((0, [home]))\n",
    "    visited = set()\n",
    "    \n",
    "    while not queue.empty():\n",
    "        cost, path = queue.get()\n",
    "        current_location = path[-1]\n",
    "\n",
    "        if current_location == destination:\n",
    "            return path, cost  # Goal reached, return the cost and path\n",
    "\n",
    "        if current_location in visited:\n",
    "            continue  # Skip if the node has been visited\n",
    "\n",
    "        visited.add(current_location)\n",
    "\n",
    "        for neighbor, neighbor_cost in graph[current_location].items():\n",
    "            if neighbor not in visited:\n",
    "                total_cost = cost + neighbor_cost\n",
    "                queue.put((total_cost, path + [neighbor]))\n",
    "\n",
    "            ##################### Write your answer here ##################\n",
    "    \n",
    "            ###############################################################\n",
    "        # Your task: Complete the implementation here.\n",
    "        # - Check if the current location is the goal (destination).\n",
    "        # - Iterate over the neighbors of the current location.\n",
    "        # - For each neighbor, calculate the total cost from the start location.\n",
    "        # - Add the neighbor to the priority queue if it hasn't been visited\n",
    "        \n",
    "    # If the goal is not reachable, return None\n",
    "    return None"
   ]
  },
  {
   "cell_type": "markdown",
   "metadata": {},
   "source": [
    "### Test Phase\n",
    "Let us find the shortest path from Anyang to HongKong."
   ]
  },
  {
   "cell_type": "code",
   "execution_count": 6,
   "metadata": {},
   "outputs": [
    {
     "name": "stdout",
     "output_type": "stream",
     "text": [
      "Shortest path: Anyang -> Zhengzhou -> Nanchang -> Shenzhen -> HongKong with total cost: 1450\n"
     ]
    }
   ],
   "source": [
    "file = open(\"maps.txt\",\"r\")\n",
    "lines = file.readlines()\n",
    "graph = {}\n",
    "for line in lines:\n",
    "    token = line.split()\n",
    "    node = token[0]\n",
    "    graph[node] = {}\n",
    "    for i in range(1, len(token)-1, 2):\n",
    "        graph[node][token[i]] = int(token[i + 1])\n",
    "result=ucs(graph, \"Anyang\", \"HongKong\")\n",
    "\n",
    "if result:\n",
    "    path, cost = result\n",
    "    formatted_path = \" -> \".join(path)  # Formats the path as 'A -> B -> C'\n",
    "    print(f\"Shortest path: {formatted_path} with total cost: {cost}\")\n",
    "else:\n",
    "    print(\"Path not found\")\n"
   ]
  }
 ],
 "metadata": {
  "kernelspec": {
   "display_name": "Python 3 (ipykernel)",
   "language": "python",
   "name": "python3"
  },
  "language_info": {
   "codemirror_mode": {
    "name": "ipython",
    "version": 3
   },
   "file_extension": ".py",
   "mimetype": "text/x-python",
   "name": "python",
   "nbconvert_exporter": "python",
   "pygments_lexer": "ipython3",
   "version": "3.10.12"
  }
 },
 "nbformat": 4,
 "nbformat_minor": 4
}
